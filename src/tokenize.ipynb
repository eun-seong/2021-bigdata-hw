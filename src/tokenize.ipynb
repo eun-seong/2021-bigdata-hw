{
 "cells": [
  {
   "cell_type": "code",
   "execution_count": 1,
   "id": "d999b48e",
   "metadata": {},
   "outputs": [],
   "source": [
    "import pandas as pd\n",
    "from konlpy.tag import Okt, Kkma, Komoran, Hannanum, Twitter\n",
    "from nltk.tokenize import word_tokenize\n",
    "from nltk.tag import pos_tag\n",
    "from nltk.tag import untag\n",
    "import xlsxwriter"
   ]
  },
  {
   "cell_type": "code",
   "execution_count": 2,
   "id": "cca47d3e",
   "metadata": {},
   "outputs": [],
   "source": [
    "my_df = pd.read_csv('../data/bluehouse.csv')"
   ]
  },
  {
   "cell_type": "code",
   "execution_count": 3,
   "id": "a4759d6e",
   "metadata": {},
   "outputs": [],
   "source": [
    "title_list = my_df.제목"
   ]
  },
  {
   "cell_type": "code",
   "execution_count": 4,
   "id": "798f21ce",
   "metadata": {},
   "outputs": [],
   "source": [
    "# 제목 열 토큰화 진행\n",
    "my_str = ''\n",
    "nouns_list = []\n",
    "nlpy = Okt()\n",
    "for title in title_list:\n",
    "    nouns = nlpy.nouns(title)\n",
    "    # 행별 토큰 저장 (이중 list 객체)\n",
    "    nouns_list.append(nouns)\n",
    "    for j in nouns:\n",
    "        # 전체 토큰 저장 (str 객체)\n",
    "        my_str = my_str + ' ' + j"
   ]
  },
  {
   "cell_type": "code",
   "execution_count": 7,
   "id": "f42c0bee",
   "metadata": {},
   "outputs": [
    {
     "data": {
      "text/plain": [
       "[['제', '국민', '속', '부자', '입'],\n",
       " ['영등포구', '소재', '국', '공립', '어린이집', '육아휴직', '거부', '신고'],\n",
       " ['재활용', '제품', '사용', '규제', '강화'],\n",
       " ['백신', '미접', '종자', '치료', '비', '자', '부담', '검토', '반대'],\n",
       " ['우리', '평소', '신경', '버려진', '담배', '꽁초', '환경오염', '원인', '거', '알'],\n",
       " ['재건축', '재개발', '도시', '정', '비법', '싱크홀', '때문', '빚', '늪', '원주민', '명'],\n",
       " ['화이자', '백신', '접종', '후', '확장', '심근병증', '진단'],\n",
       " ['적국', '찬양', '경기도', '교육청', '교육', '입'],\n",
       " ['동창생', '성노예', '여성', '상공', '촉구'],\n",
       " ['체고', '코치', '폭행']]"
      ]
     },
     "execution_count": 7,
     "metadata": {},
     "output_type": "execute_result"
    }
   ],
   "source": [
    "nouns_list[:10]"
   ]
  },
  {
   "cell_type": "code",
   "execution_count": 9,
   "id": "097b76f9",
   "metadata": {},
   "outputs": [
    {
     "data": {
      "text/plain": [
       "' 제 국민 속 부자 입 영등포구 소재 국 공립 어린이집 육아휴직 거부 신고 재활용 제품 사용 규제 강화 백신 미접 종자 치료 비 자 부담 검토 반대 우리 평소 신경 버려진 담배 꽁'"
      ]
     },
     "execution_count": 9,
     "metadata": {},
     "output_type": "execute_result"
    }
   ],
   "source": [
    "my_str[:100]"
   ]
  },
  {
   "cell_type": "code",
   "execution_count": 10,
   "id": "2d04caca",
   "metadata": {},
   "outputs": [],
   "source": [
    "# 행별 토큰 엑셀로 저장\n",
    "workbook = xlsxwriter.Workbook('../data/bluehouse_token.xlsx')\n",
    "worksheet = workbook.add_worksheet()\n",
    "\n",
    "for i, x in enumerate(nouns_list):\n",
    "    worksheet.write_row('A'+str(i+1), x)\n",
    "\n",
    "workbook.close()"
   ]
  },
  {
   "cell_type": "code",
   "execution_count": 11,
   "id": "02464ccc",
   "metadata": {},
   "outputs": [],
   "source": [
    "# 전체 토큰 텍스트로 저장\n",
    "fw = open('../data/bluehouse_token.txt', 'w')\n",
    "fw.write(my_str)\n",
    "fw.close()"
   ]
  },
  {
   "cell_type": "code",
   "execution_count": null,
   "id": "ab8a6526",
   "metadata": {},
   "outputs": [],
   "source": []
  }
 ],
 "metadata": {
  "kernelspec": {
   "display_name": "Python 3 (ipykernel)",
   "language": "python",
   "name": "python3"
  },
  "language_info": {
   "codemirror_mode": {
    "name": "ipython",
    "version": 3
   },
   "file_extension": ".py",
   "mimetype": "text/x-python",
   "name": "python",
   "nbconvert_exporter": "python",
   "pygments_lexer": "ipython3",
   "version": "3.9.7"
  }
 },
 "nbformat": 4,
 "nbformat_minor": 5
}
